{
 "cells": [
  {
   "cell_type": "markdown",
   "metadata": {},
   "source": [
    "# Extracting patients with one of the four diseases of interest"
   ]
  },
  {
   "cell_type": "code",
   "execution_count": null,
   "metadata": {},
   "outputs": [],
   "source": [
    "import warnings\n",
    "warnings.filterwarnings('ignore')"
   ]
  },
  {
   "cell_type": "code",
   "execution_count": null,
   "metadata": {},
   "outputs": [],
   "source": [
    "import pandas as pd\n",
    "import numpy as np"
   ]
  },
  {
   "cell_type": "markdown",
   "metadata": {},
   "source": [
    "## Data Loading"
   ]
  },
  {
   "cell_type": "markdown",
   "metadata": {},
   "source": [
    "We are given data from four endocrinology medical centers in Germany in Berlin, Frankfurt, Hambourg, and Stuttgart. We are interested in four diseases."
   ]
  },
  {
   "cell_type": "code",
   "execution_count": null,
   "metadata": {},
   "outputs": [],
   "source": [
    "Berlin = pd.read_csv('/home/jovyan/amedes_challenge/data/raw/BER01_MD_HEC.csv.gz', sep=';',encoding=\"latin1\")"
   ]
  },
  {
   "cell_type": "code",
   "execution_count": null,
   "metadata": {},
   "outputs": [],
   "source": [
    "Berlin.info()"
   ]
  },
  {
   "cell_type": "code",
   "execution_count": null,
   "metadata": {},
   "outputs": [],
   "source": [
    "Berlin.head(3)"
   ]
  },
  {
   "cell_type": "code",
   "execution_count": null,
   "metadata": {},
   "outputs": [],
   "source": [
    "Berlin[\"is_E75.22\"] = (Berlin['TEXT'].apply(lambda x: 'E75.22' in str(x))*1 + \n",
    "                       Berlin['ICD10'].apply(lambda x: 'E75.22' in str(x))*1 + \n",
    "                       Berlin['TEXT'].apply(lambda x: 'Gaucher' in str(x))*1 +\n",
    "                       Berlin['TEXT'].apply(lambda x: 'gaucher' in str(x))*1)\n",
    "\n",
    "Berlin[\"is_E78.0\"] = (Berlin['TEXT'].apply(lambda x: 'E78.0' in str(x))*1 + \n",
    "                      Berlin['ICD10'].apply(lambda x: 'E78.0' in str(x))*1 +\n",
    "                      Berlin['TEXT'].apply(lambda x: 'Hypercholesterinämie' in str(x))*1 +\n",
    "                      Berlin['TEXT'].apply(lambda x: 'hypercholesterinämie' in str(x))*1)\n",
    "\n",
    "Berlin[\"is_E78.3\"] = (Berlin['TEXT'].apply(lambda x: 'E78.3' in str(x))*1 + \n",
    "                      Berlin['ICD10'].apply(lambda x: 'E78.3' in str(x))*1 +\n",
    "                      Berlin['TEXT'].apply(lambda x: 'Chylomikronämie' in str(x))*1 +\n",
    "                      Berlin['TEXT'].apply(lambda x: 'chylomikronämie' in str(x))*1)\n",
    "\n",
    "Berlin[\"is_E71.3\"] = (Berlin['TEXT'].apply(lambda x: 'E71.3' in str(x))*1 + \n",
    "                      Berlin['ICD10'].apply(lambda x: 'E71.3' in str(x))*1 +\n",
    "                      Berlin['TEXT'].apply(lambda x: ('beta' in str(x)) & ('xidationsdefekt' in str(x)))*1 +\n",
    "                      Berlin['TEXT'].apply(lambda x: ('β' in str(x)) & ('xidationsdefekt' in str(x)))*1)\n",
    "\n",
    "Berlin['is_disease'] = Berlin['is_E75.22'] + Berlin['is_E78.0'] + Berlin['is_E78.3'] + Berlin['is_E71.3']"
   ]
  },
  {
   "cell_type": "code",
   "execution_count": null,
   "metadata": {},
   "outputs": [],
   "source": [
    "Berlin.head()"
   ]
  },
  {
   "cell_type": "code",
   "execution_count": null,
   "metadata": {},
   "outputs": [],
   "source": [
    "Berlin[Berlin['is_disease']!=0]['PATIENT_HASH'].nunique()"
   ]
  },
  {
   "cell_type": "code",
   "execution_count": null,
   "metadata": {},
   "outputs": [],
   "source": [
    "patients_of_interest = Berlin[Berlin['is_disease']!=0]['PATIENT_HASH'].unique()\n",
    "Berlin_extract = Berlin[Berlin.PATIENT_HASH.isin(patients_of_interest)]"
   ]
  },
  {
   "cell_type": "code",
   "execution_count": null,
   "metadata": {},
   "outputs": [],
   "source": [
    "Berlin_extract.shape"
   ]
  }
 ],
 "metadata": {
  "kernelspec": {
   "display_name": "Python 3",
   "language": "python",
   "name": "python3"
  },
  "language_info": {
   "codemirror_mode": {
    "name": "ipython",
    "version": 3
   },
   "file_extension": ".py",
   "mimetype": "text/x-python",
   "name": "python",
   "nbconvert_exporter": "python",
   "pygments_lexer": "ipython3",
   "version": "3.7.9"
  }
 },
 "nbformat": 4,
 "nbformat_minor": 4
}
